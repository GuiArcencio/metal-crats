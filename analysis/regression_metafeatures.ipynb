{
 "cells": [
  {
   "cell_type": "code",
   "execution_count": 1,
   "metadata": {},
   "outputs": [],
   "source": [
    "import os\n",
    "os.chdir(os.path.abspath(\"..\"))"
   ]
  },
  {
   "cell_type": "code",
   "execution_count": 2,
   "metadata": {},
   "outputs": [],
   "source": [
    "import numpy as np\n",
    "import pandas as pd\n",
    "\n",
    "from dataio import load_metadataset\n",
    "from sklearn.feature_selection import SelectFpr, VarianceThreshold"
   ]
  },
  {
   "cell_type": "code",
   "execution_count": 3,
   "metadata": {},
   "outputs": [
    {
     "name": "stdout",
     "output_type": "stream",
     "text": [
      "--- Analysing minimal features ---\n",
      "1 feature(s) removed due to low variance (3.57%)\n",
      "1 out of 27 features are significant (3.70%)\n",
      "\n",
      "--- Analysing catch22 features ---\n",
      "0 feature(s) removed due to low variance (0.00%)\n",
      "12 out of 57 features are significant (21.05%)\n",
      "\n",
      "--- Analysing efficient features ---\n",
      "9 feature(s) removed due to low variance (0.58%)\n",
      "114 out of 1553 features are significant (7.34%)\n",
      "\n",
      "--- Analysing comprehensive features ---\n",
      "9 feature(s) removed due to low variance (0.57%)\n",
      "119 out of 1565 features are significant (7.60%)\n",
      "\n"
     ]
    }
   ],
   "source": [
    "for feature_set in [\"minimal\", \"catch22\", \"efficient\", \"comprehensive\"]:\n",
    "    print(f\"--- Analysing {feature_set} features ---\")\n",
    "    meta_X, meta_y = load_metadataset(feature_set, problem_type=\"regression\")\n",
    "    total_features = meta_X.shape[1]\n",
    "\n",
    "    variance_selector = VarianceThreshold((1e-5)**2).fit(meta_X)\n",
    "    meta_X_threshold = meta_X[variance_selector.get_feature_names_out()]\n",
    "    threshold_features = meta_X_threshold.shape[1]\n",
    "\n",
    "    removed_features = total_features - threshold_features\n",
    "    print(f\"{removed_features} feature(s) removed due to low variance ({100 * removed_features / total_features:.2f}%)\")\n",
    "\n",
    "    anova_selector = SelectFpr(alpha=0.05).fit(meta_X_threshold, meta_y)\n",
    "    meta_X_final = meta_X_threshold[anova_selector.get_feature_names_out()]\n",
    "    final_features = meta_X_final.shape[1]\n",
    "\n",
    "    print(f\"{final_features} out of {threshold_features} features are significant ({(100 * final_features / threshold_features):.2f}%)\")\n",
    "\n",
    "    print(\"\")\n",
    "    \n"
   ]
  }
 ],
 "metadata": {
  "kernelspec": {
   "display_name": "metalcrats",
   "language": "python",
   "name": "python3"
  },
  "language_info": {
   "codemirror_mode": {
    "name": "ipython",
    "version": 3
   },
   "file_extension": ".py",
   "mimetype": "text/x-python",
   "name": "python",
   "nbconvert_exporter": "python",
   "pygments_lexer": "ipython3",
   "version": "3.11.3"
  },
  "orig_nbformat": 4
 },
 "nbformat": 4,
 "nbformat_minor": 2
}
